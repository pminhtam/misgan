{
 "cells": [
  {
   "cell_type": "code",
   "execution_count": 10,
   "metadata": {},
   "outputs": [
    {
     "data": {
      "image/png": "[encoded data removed]",
      "text/plain": [
       "<Figure size 432x288 with 1 Axes>"
      ]
     },
     "metadata": {
      "needs_background": "light"
     },
     "output_type": "display_data"
    }
   ],
   "source": [
    "#!/usr/bin/env python\n",
    "\n",
    "%matplotlib inline\n",
    "import numpy as np\n",
    "import matplotlib.pyplot as plt\n",
    "from matplotlib import rc\n",
    "from pylab import *\n",
    "\n",
    "\n",
    "def normalize(algo):\n",
    "    return np.log10(np.array(algo))\n",
    "\n",
    "\n",
    "# fig = figure(figsize=(4.8,2.9), dpi=100)\n",
    "ax = plt.subplot(111)\n",
    "matplotlib.rcParams.update({'font.size': 14})\n",
    "\n",
    "# subplots_adjust(bottom=0.3)\n",
    "# subplots_adjust(left=0.2)\n",
    "\n",
    "x = (1, 2, 3, 4, 5)\n",
    "\n",
    "ds1\t= (5, 90, 800, 6000, 12000)\n",
    "ds2\t= (5, 90, 800, 6000, 12000)\n",
    "ds3\t= (5, 90, 800, 6000, 12000)\n",
    "ds4\t= (5, 90, 800, 6000, 12000)\n",
    "# ds5 = (0.0063145,\t0.0385687,\t0.0915833,\t0.6167888,\t1.0531862)\n",
    "\n",
    "plot (x, ds1, marker='o', markersize=6, fillstyle='none', linestyle='-', color='k', label='DS1?',markevery=None)\n",
    "plot (x, ds2, marker='^', markersize=6, fillstyle='full', linestyle='-', color='k', label='DS2?')\n",
    "plot (x, ds3, marker='s', markersize=6, fillstyle='none', linestyle='-', color='k', label='DS3?',markevery=None)\n",
    "plot (x, ds4, marker='d', markersize=6, fillstyle='none', linestyle='-', color='k', label='DS4?')\n",
    "# plot (x, ds5, marker='s', markersize=6, fillstyle='full', linestyle='-', color='k', label='AGK')\n",
    "\n",
    "ax.set_yscale('log')\n",
    "\n",
    "#rc('font',**{'family':'sans-serif','sans-serif':['Helvetica']})\n",
    "#rc('text', usetex=True)\n",
    "xlabel('Number of Attributes', fontsize=14)\n",
    "# ylabel('CPU Time (s)')\n",
    "title('Number of meaningless FDs', fontsize=14, loc=\"left\")\n",
    "# plt.gca().yaxis.grid(True)\n",
    "# plt.gca().xaxis.grid(True)\n",
    "ax.grid(True)\n",
    "# plt.grid(True)\n",
    "\n",
    "xlabels = ['5', '10', '15', '20', '25']\n",
    "xticks(x,xlabels);\n",
    "xlim(1 - 0.1, 5 + 0.1);\n",
    "\n",
    "# yticks(np.arange(0, 2 + 0.01, 0.5));\n",
    "ylim(1, 1e5 + 1)\n",
    "\n",
    "box = ax.get_position()\n",
    "ax.set_position([box.x0, box.y0, box.width , box.height])\n",
    "# ax.legend( (b1, b2, b3), ('0\\%', '20\\%', '40\\%'), fontsize=20, frameon=False, labelspacing=0, borderpad = 0.1,\n",
    "#            columnspacing=0.4, handletextpad=0.3, ncol=3, loc='upper left')\n",
    "\n",
    "plt.legend(prop={'size':12}, frameon=False, labelspacing=0, ncol=4,\n",
    "            loc='upper left')\n",
    "\n",
    "savefig(\"../tex/figures/col2fd_log.png\", bbox_inches='tight', dpi=300)\n",
    "# show()\n"
   ]
  },
  {
   "cell_type": "code",
   "execution_count": null,
   "metadata": {},
   "outputs": [],
   "source": []
  }
 ],
 "metadata": {
  "kernelspec": {
   "display_name": "Python 3",
   "language": "python",
   "name": "python3"
  },
  "language_info": {
   "codemirror_mode": {
    "name": "ipython",
    "version": 3
   },
   "file_extension": ".py",
   "mimetype": "text/x-python",
   "name": "python",
   "nbconvert_exporter": "python",
   "pygments_lexer": "ipython3",
   "version": "3.7.4"
  }
 },
 "nbformat": 4,
 "nbformat_minor": 2
}
