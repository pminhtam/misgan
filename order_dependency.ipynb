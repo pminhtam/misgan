{
 "cells": [
  {
   "cell_type": "code",
   "execution_count": 5,
   "metadata": {},
   "outputs": [],
   "source": [
    "%matplotlib inline\n",
    "import pandas as pd\n",
    "import matplotlib.pyplot as plt\n",
    "import numpy as np\n",
    "from pylab import *"
   ]
  },
  {
   "cell_type": "code",
   "execution_count": 6,
   "metadata": {},
   "outputs": [
    {
     "data": {
      "text/html": [
       "<div>\n",
       "<style scoped>\n",
       "    .dataframe tbody tr th:only-of-type {\n",
       "        vertical-align: middle;\n",
       "    }\n",
       "\n",
       "    .dataframe tbody tr th {\n",
       "        vertical-align: top;\n",
       "    }\n",
       "\n",
       "    .dataframe thead th {\n",
       "        text-align: right;\n",
       "    }\n",
       "</style>\n",
       "<table border=\"1\" class=\"dataframe\">\n",
       "  <thead>\n",
       "    <tr style=\"text-align: right;\">\n",
       "      <th></th>\n",
       "      <th>K</th>\n",
       "      <th>First</th>\n",
       "      <th>Second</th>\n",
       "      <th>Third</th>\n",
       "    </tr>\n",
       "  </thead>\n",
       "  <tbody>\n",
       "    <tr>\n",
       "      <td>0</td>\n",
       "      <td>5</td>\n",
       "      <td>0.76</td>\n",
       "      <td>0.74</td>\n",
       "      <td>0.75</td>\n",
       "    </tr>\n",
       "    <tr>\n",
       "      <td>1</td>\n",
       "      <td>10</td>\n",
       "      <td>0.78</td>\n",
       "      <td>0.77</td>\n",
       "      <td>0.78</td>\n",
       "    </tr>\n",
       "    <tr>\n",
       "      <td>2</td>\n",
       "      <td>15</td>\n",
       "      <td>0.83</td>\n",
       "      <td>0.81</td>\n",
       "      <td>0.82</td>\n",
       "    </tr>\n",
       "  </tbody>\n",
       "</table>\n",
       "</div>"
      ],
      "text/plain": [
       "    K  First  Second  Third\n",
       "0   5   0.76    0.74   0.75\n",
       "1  10   0.78    0.77   0.78\n",
       "2  15   0.83    0.81   0.82"
      ]
     },
     "execution_count": 6,
     "metadata": {},
     "output_type": "execute_result"
    }
   ],
   "source": [
    "raw_data = {'K': ['5', '10', '15'],   \n",
    "        'First': [.76, .78, .83],\n",
    "        'Second': [.74, .77, .81],\n",
    "        'Third': [.75, .78, .82]}\n",
    "df = pd.DataFrame(raw_data, columns = ['K', 'First', 'Second','Third'])\n",
    "df"
   ]
  },
  {
   "cell_type": "code",
   "execution_count": 13,
   "metadata": {},
   "outputs": [
    {
     "name": "stdout",
     "output_type": "stream",
     "text": [
      "[0, 1, 2]\n"
     ]
    },
    {
     "data": {
      "image/png": "[encoded data removed]",
      "text/plain": [
       "<Figure size 432x288 with 1 Axes>"
      ]
     },
     "metadata": {
      "needs_background": "light"
     },
     "output_type": "display_data"
    }
   ],
   "source": [
    "matplotlib.rcParams.update({'font.size': 25})\n",
    "matplotlib.rcParams['text.usetex'] = True\n",
    "ax = plt.subplot(1,1,1)\n",
    "\n",
    "# Setting the positions and width for the bars\n",
    "pos = list(range(len(df['K']))) \n",
    "print(pos)\n",
    "width = 0.15\n",
    "\n",
    "\n",
    "ax.bar([p - 1*width for p in pos], \n",
    "        #using df['post_score'] data,\n",
    "        df['First'], \n",
    "        # of width\n",
    "        width, \n",
    "        # with alpha 0.5\n",
    "        alpha=1, \n",
    "        # with color\n",
    "        color='black', \n",
    "        # with label the third value in first_name\n",
    "        label=df['K'],\n",
    "        edgecolor='black', \n",
    "        hatch='') \n",
    "\n",
    "ax.bar([p - 0*width for p in pos], \n",
    "        #using df['post_score'] data,\n",
    "        df['Second'], \n",
    "        # of width\n",
    "        width, \n",
    "        # with alpha 0.5\n",
    "        alpha=1, \n",
    "        # with color\n",
    "        color='white', \n",
    "        # with label the third value in first_name\n",
    "        label=df['K'],\n",
    "        edgecolor='black', \n",
    "        hatch='.') \n",
    "\n",
    "ax.bar([p + 1*width for p in pos], \n",
    "        #using df['post_score'] data,\n",
    "        df['Third'], \n",
    "        # of width\n",
    "        width, \n",
    "        # with alpha 0.5\n",
    "        alpha=1, \n",
    "        # with color\n",
    "        color='white', \n",
    "        # with label the third value in first_name\n",
    "        label=df['K'],\n",
    "        edgecolor='black', \n",
    "        hatch='\\\\')\n",
    "\n",
    "xlabel('Techniques')\n",
    "ylabel('Functional error')\n",
    "# ylabel('\\#Users') #'Users who tweet/retweet rumors'\n",
    "plt.title('fd dataset', loc='left', color='black', fontsize=28)\n",
    "plt.grid(True,axis='y',alpha=0.5)\n",
    "\n",
    "# Styling for y-ax\n",
    "#plt.ylim([0, 100])\n",
    "\n",
    "# Styling for x-ax\n",
    "ax.set_xticks(pos)\n",
    "ax.set_xticklabels(['Our', 'Corr', 'FD'])\n",
    "\n",
    "# To specify the number of ticks on both or any single axes\n",
    "plt.yticks(np.arange(0, 1.15, 0.2))\n",
    "\n",
    "#legend\n",
    "ax.legend(['1st-order', '2nd-order','3rd-order'], fontsize=20, loc='upper left', frameon=False, ncol=2, labelspacing=0, \n",
    "          columnspacing=0.3, borderpad = 0.3, handletextpad=0.3) #bbox_to_anchor=(0, 1.3), \n",
    "\n",
    "\n",
    "#Save file\n",
    "dir = \"../tex/figures/\"\n",
    "plt.savefig(dir + \"order_fd.png\", bbox_inches='tight', dpi=300)"
   ]
  },
  {
   "cell_type": "code",
   "execution_count": null,
   "metadata": {},
   "outputs": [],
   "source": []
  }
 ],
 "metadata": {
  "kernelspec": {
   "display_name": "Python 3",
   "language": "python",
   "name": "python3"
  },
  "language_info": {
   "codemirror_mode": {
    "name": "ipython",
    "version": 3
   },
   "file_extension": ".py",
   "mimetype": "text/x-python",
   "name": "python",
   "nbconvert_exporter": "python",
   "pygments_lexer": "ipython3",
   "version": "3.7.4"
  }
 },
 "nbformat": 4,
 "nbformat_minor": 2
}
